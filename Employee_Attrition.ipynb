{
  "nbformat": 4,
  "nbformat_minor": 0,
  "metadata": {
    "colab": {
      "provenance": [],
      "authorship_tag": "ABX9TyMLUY+EEutuGKlTZ3+s7eO7",
      "include_colab_link": true
    },
    "kernelspec": {
      "name": "python3",
      "display_name": "Python 3"
    },
    "language_info": {
      "name": "python"
    }
  },
  "cells": [
    {
      "cell_type": "markdown",
      "metadata": {
        "id": "view-in-github",
        "colab_type": "text"
      },
      "source": [
        "<a href=\"https://colab.research.google.com/github/juliocesarortiz/DataScience/blob/main/Employee_Attrition.ipynb\" target=\"_parent\"><img src=\"https://colab.research.google.com/assets/colab-badge.svg\" alt=\"Open In Colab\"/></a>"
      ]
    },
    {
      "cell_type": "markdown",
      "source": [
        "Install frameworks to manage xls files"
      ],
      "metadata": {
        "id": "PcS6HGpoa9xA"
      }
    },
    {
      "cell_type": "code",
      "source": [
        "!pip install xlsxwriter\n",
        "!pip install openpyxl"
      ],
      "metadata": {
        "colab": {
          "base_uri": "https://localhost:8080/"
        },
        "id": "pHKZKIQiEeR4",
        "outputId": "f13c7d68-e96a-43fb-bb5e-6f5dfaa87b4e"
      },
      "execution_count": 169,
      "outputs": [
        {
          "output_type": "stream",
          "name": "stdout",
          "text": [
            "Requirement already satisfied: xlsxwriter in /usr/local/lib/python3.10/dist-packages (3.2.0)\n",
            "Requirement already satisfied: openpyxl in /usr/local/lib/python3.10/dist-packages (3.1.2)\n",
            "Requirement already satisfied: et-xmlfile in /usr/local/lib/python3.10/dist-packages (from openpyxl) (1.1.0)\n"
          ]
        }
      ]
    },
    {
      "source": [
        "import xlsxwriter\n",
        "import openpyxl\n",
        "import pandas as pd\n",
        "\n",
        "# Create a workbook and add a worksheet.\n",
        "workbook = xlsxwriter.Workbook('Results.xlsx')\n",
        "worksheet = workbook.add_worksheet('average_service')\n",
        "\n",
        "# Read the CSV file\n",
        "df = pd.read_csv('/content/sample_data/Employee_Attrition.csv')\n",
        "\n",
        "# Calculate the average length of service\n",
        "average_service = df['Time_of_service'].mean()\n",
        "\n",
        "# Create a new DataFrame with the average service\n",
        "df_average_service = pd.DataFrame({\"average_service\": [average_service]})\n",
        "\n",
        "# Write the DataFrame to a new sheet in the workbook\n",
        "df_average_service.to_excel('Results.xlsx', sheet_name='average_service', index=False)\n",
        "\n",
        "print(f\"The average length of service is {average_service} years.\")\n",
        "\n"
      ],
      "cell_type": "code",
      "metadata": {
        "colab": {
          "base_uri": "https://localhost:8080/"
        },
        "id": "n-vOCvi2Ms29",
        "outputId": "cbcfe04d-0bda-4f63-81d6-d40aade5b27a"
      },
      "execution_count": 170,
      "outputs": [
        {
          "output_type": "stream",
          "name": "stdout",
          "text": [
            "The average length of service is 13.403663500678427 years.\n"
          ]
        }
      ]
    },
    {
      "cell_type": "markdown",
      "source": [
        "Compute the Gender Average"
      ],
      "metadata": {
        "id": "sXs4UQuEbaJI"
      }
    },
    {
      "cell_type": "code",
      "source": [
        "\n",
        "# Calculate the percentage of men and women\n",
        "percentage_men = (len(df[df['Gender'] == 'M']) / len(df)) * 100\n",
        "percentage_women = (len(df[df['Gender'] == 'F']) / len(df)) * 100\n",
        "\n",
        "# Print the percentages\n",
        "print(f\"The percentage of men is {percentage_men:.2f}%.\")\n",
        "print(f\"The percentage of women is {percentage_women:.2f}%.\")\n",
        "\n",
        "# Convert the percentage_men, percentage_women  values to a Pandas DataFrame\n",
        "\n",
        "percentage_data = {'Gender': ['Men', 'Women'], 'Percentage': [percentage_men, percentage_women]}\n",
        "df_percentage = pd.DataFrame(percentage_data)\n",
        "\n",
        "print(df_percentage)"
      ],
      "metadata": {
        "colab": {
          "base_uri": "https://localhost:8080/"
        },
        "id": "C9R5K0kCuNgI",
        "outputId": "48dca381-a993-46e0-d930-e1024b338ad9"
      },
      "execution_count": 171,
      "outputs": [
        {
          "output_type": "stream",
          "name": "stdout",
          "text": [
            "The percentage of men is 42.40%.\n",
            "The percentage of women is 57.60%.\n",
            "  Gender  Percentage\n",
            "0    Men        42.4\n",
            "1  Women        57.6\n"
          ]
        }
      ]
    },
    {
      "cell_type": "markdown",
      "source": [
        "Save results in an append sheet"
      ],
      "metadata": {
        "id": "Or5TKuDzbq6w"
      }
    },
    {
      "cell_type": "code",
      "source": [
        "with pd.ExcelWriter('Results.xlsx', engine='openpyxl', mode='a', if_sheet_exists='replace') as writer:\n",
        "    df_percentage.to_excel(writer, sheet_name='Percentage', index=False)"
      ],
      "metadata": {
        "id": "t-Dy_0rpNcAI"
      },
      "execution_count": 172,
      "outputs": []
    },
    {
      "cell_type": "markdown",
      "source": [
        "Using max to compute the maximum time without promotion"
      ],
      "metadata": {
        "id": "t6QhT_Opb2x4"
      }
    },
    {
      "cell_type": "code",
      "source": [
        "# MAXIMUM TIME WITHOUT PROMOTION FOR PEOPLE WITH MORE THAN 15 YEARS of time of service\n",
        "\n",
        "\n",
        "df_filtered = df[df['Time_of_service'] > 15]\n",
        "max_time_without_promotion = df_filtered['Time_since_promotion'].max()\n",
        "print(f\"The maximum time without promotion for people with more than 15 years of service is {max_time_without_promotion} years.\")\n",
        "\n",
        "# Convert the max_time_without_promotion value to a Pandas DataFrame\n",
        "df_max_time = pd.DataFrame({'max_time_without_promotion': [max_time_without_promotion]})\n",
        "\n"
      ],
      "metadata": {
        "colab": {
          "base_uri": "https://localhost:8080/"
        },
        "id": "nG_Uw-P-v0Te",
        "outputId": "b86fedb8-4720-4b61-bab8-ba5e9055b423"
      },
      "execution_count": 173,
      "outputs": [
        {
          "output_type": "stream",
          "name": "stdout",
          "text": [
            "The maximum time without promotion for people with more than 15 years of service is 4 years.\n"
          ]
        }
      ]
    },
    {
      "cell_type": "markdown",
      "source": [
        "Save results"
      ],
      "metadata": {
        "id": "WV1jIre-cHgp"
      }
    },
    {
      "cell_type": "code",
      "source": [
        "with pd.ExcelWriter('Results.xlsx', engine='openpyxl', mode='a', if_sheet_exists='replace') as writer:\n",
        "    df_max_time.to_excel(writer, sheet_name='max_time_without_promotion', index=False)"
      ],
      "metadata": {
        "id": "I7JTR-duJETa"
      },
      "execution_count": 174,
      "outputs": []
    },
    {
      "cell_type": "code",
      "source": [
        "#New column Employee Started Age, Age - Time_of_service\n",
        "\n",
        "df['Started_Age'] = df['Age'] - df['Time_of_service']\n",
        "\n"
      ],
      "metadata": {
        "id": "J20Gicghxr-F"
      },
      "execution_count": 175,
      "outputs": []
    },
    {
      "cell_type": "code",
      "source": [
        "# if Started_Age is NaN write Not available\n",
        "\n",
        "import numpy as np\n",
        "\n",
        "df['Started_Age'] = np.where(df['Started_Age'].isna(), 'Not available', df['Started_Age'])\n",
        "#print(df['Started_Age'])"
      ],
      "metadata": {
        "id": "maxngLUF0LCV"
      },
      "execution_count": 176,
      "outputs": []
    },
    {
      "cell_type": "markdown",
      "source": [
        "Save results"
      ],
      "metadata": {
        "id": "6H59vZqEcd5Q"
      }
    },
    {
      "cell_type": "code",
      "source": [
        "with pd.ExcelWriter('Results.xlsx', engine='openpyxl', mode='a', if_sheet_exists='replace') as writer:\n",
        "    df.to_excel(writer, sheet_name='all_dataset_plus_started_age', index=False)"
      ],
      "metadata": {
        "id": "5rM2y4pR5qK7"
      },
      "execution_count": 177,
      "outputs": []
    },
    {
      "cell_type": "code",
      "source": [
        " # Filtering Data only single women with compensation type2 and type3\n",
        "df_filtered = df[\n",
        "    (df['Gender'] == 'F') &\n",
        "    (df['Relationship_Status'] == 'Single') &\n",
        "    (df['Compensation_and_Benefits'].isin(['type2', 'type3']))\n",
        "]\n",
        "\n",
        "df_filtered = df_filtered[['Employee_ID', 'Relationship_Status', 'Decision_skill_possess']]\n"
      ],
      "metadata": {
        "id": "82vSg9sj-RSj"
      },
      "execution_count": 179,
      "outputs": []
    },
    {
      "cell_type": "code",
      "source": [
        "#Save results\n",
        "\n",
        "with pd.ExcelWriter('Results.xlsx', engine='openpyxl', mode='a', if_sheet_exists='replace') as writer:\n",
        "    df_filtered.to_excel(writer, sheet_name='filtered_women_single', index=False)\n"
      ],
      "metadata": {
        "id": "ZZJE5f_oY5wB"
      },
      "execution_count": 180,
      "outputs": []
    },
    {
      "cell_type": "code",
      "source": [
        "# Compute time since promotion, using numpy\n",
        "\n",
        "df['Time_since_promotion_status'] = np.where(df['Age'] - df['Time_since_promotion'] < 30, 'on time', 'out of time')\n",
        "\n",
        "# Save results\n",
        "with pd.ExcelWriter('Results.xlsx', engine='openpyxl', mode='a', if_sheet_exists='replace') as writer:\n",
        "    df.to_excel(writer, sheet_name='all_dataset_plus_time_since_promotion_status', index=False)\n"
      ],
      "metadata": {
        "id": "Kng8jS4PZBHS"
      },
      "execution_count": 188,
      "outputs": []
    }
  ]
}