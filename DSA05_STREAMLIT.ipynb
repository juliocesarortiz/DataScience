{
  "nbformat": 4,
  "nbformat_minor": 0,
  "metadata": {
    "colab": {
      "provenance": [],
      "authorship_tag": "ABX9TyOnbVYbNlilf3mw7GM5ov17",
      "include_colab_link": true
    },
    "kernelspec": {
      "name": "python3",
      "display_name": "Python 3"
    },
    "language_info": {
      "name": "python"
    }
  },
  "cells": [
    {
      "cell_type": "markdown",
      "metadata": {
        "id": "view-in-github",
        "colab_type": "text"
      },
      "source": [
        "<a href=\"https://colab.research.google.com/github/juliocesarortiz/DataScience/blob/main/DSA05_STREAMLIT.ipynb\" target=\"_parent\"><img src=\"https://colab.research.google.com/assets/colab-badge.svg\" alt=\"Open In Colab\"/></a>"
      ]
    },
    {
      "cell_type": "code",
      "execution_count": 1,
      "metadata": {
        "colab": {
          "base_uri": "https://localhost:8080/"
        },
        "collapsed": true,
        "id": "ivNsd-T2FHWz",
        "outputId": "5d833721-3747-478a-df53-025df9d7305a"
      },
      "outputs": [
        {
          "output_type": "stream",
          "name": "stdout",
          "text": [
            "\u001b[2K     \u001b[90m━━━━━━━━━━━━━━━━━━━━━━━━━━━━━━━━━━━━━━━━\u001b[0m \u001b[32m8.6/8.6 MB\u001b[0m \u001b[31m17.7 MB/s\u001b[0m eta \u001b[36m0:00:00\u001b[0m\n",
            "\u001b[2K     \u001b[90m━━━━━━━━━━━━━━━━━━━━━━━━━━━━━━━━━━━━━━━━\u001b[0m \u001b[32m207.3/207.3 kB\u001b[0m \u001b[31m6.5 MB/s\u001b[0m eta \u001b[36m0:00:00\u001b[0m\n",
            "\u001b[2K     \u001b[90m━━━━━━━━━━━━━━━━━━━━━━━━━━━━━━━━━━━━━━━━\u001b[0m \u001b[32m6.9/6.9 MB\u001b[0m \u001b[31m29.3 MB/s\u001b[0m eta \u001b[36m0:00:00\u001b[0m\n",
            "\u001b[2K     \u001b[90m━━━━━━━━━━━━━━━━━━━━━━━━━━━━━━━━━━━━━━━━\u001b[0m \u001b[32m83.0/83.0 kB\u001b[0m \u001b[31m4.2 MB/s\u001b[0m eta \u001b[36m0:00:00\u001b[0m\n",
            "\u001b[2K     \u001b[90m━━━━━━━━━━━━━━━━━━━━━━━━━━━━━━━━━━━━━━━━\u001b[0m \u001b[32m62.7/62.7 kB\u001b[0m \u001b[31m4.3 MB/s\u001b[0m eta \u001b[36m0:00:00\u001b[0m\n",
            "\u001b[?25h--2024-07-15 03:30:35--  https://bin.equinox.io/c/bNyj1mQVY4c/ngrok-v3-stable-linux-amd64.tgz\n",
            "Resolving bin.equinox.io (bin.equinox.io)... 52.202.168.65, 18.205.222.128, 54.161.241.46, ...\n",
            "Connecting to bin.equinox.io (bin.equinox.io)|52.202.168.65|:443... connected.\n",
            "HTTP request sent, awaiting response... 200 OK\n",
            "Length: 8967830 (8.6M) [application/octet-stream]\n",
            "Saving to: ‘ngrok-v3-stable-linux-amd64.tgz’\n",
            "\n",
            "ngrok-v3-stable-lin 100%[===================>]   8.55M  30.0MB/s    in 0.3s    \n",
            "\n",
            "2024-07-15 03:30:35 (30.0 MB/s) - ‘ngrok-v3-stable-linux-amd64.tgz’ saved [8967830/8967830]\n",
            "\n",
            "ngrok\n",
            "Authtoken saved to configuration file: /root/.config/ngrok/ngrok.yml\n"
          ]
        }
      ],
      "source": [
        "# instalar streamlit\n",
        "!pip install -q streamlit\n",
        "\n",
        "# bajar ngrok\n",
        "!wget https://bin.equinox.io/c/bNyj1mQVY4c/ngrok-v3-stable-linux-amd64.tgz\n",
        "!tar xvf ngrok-v3-stable-linux-amd64.tgz\n",
        "\n",
        "# guardar token\n",
        "!./ngrok config add-authtoken 2izjNE46GsCckEbRwE4ndLIPRLn_J7wx98qcjDWxxLXsKNez\n",
        "\n",
        "# Levantar tunel\n",
        "!./ngrok http 8501 &>/content/ngrok.log &"
      ]
    },
    {
      "cell_type": "code",
      "source": [
        "%%writefile app.py\n",
        "\n",
        "import pandas as pd\n",
        "import streamlit as st\n",
        "import plotly.express as px\n",
        "\n",
        "st.set_page_config(layout=\"wide\")\n",
        "\n",
        "@st.cache_data\n",
        "def load_data(num=500):\n",
        "  data = pd.read_csv(\"/content/Employees.csv\",nrows=num)\n",
        "  return data\n",
        "\n",
        "data = load_data() # Moved outside the function to make it accessible\n",
        "#show_data = st.sidebar.checkbox(\"Mostrar datos\")\n",
        " # Crear título de la aplicación\n",
        "st.title(\"Dashboard de empleados\")\n",
        "# Crear encabezados\n",
        "st.header(\"Datos de empleados\")\n",
        "st.subheader(\"Descripción:\")\n",
        "# Crear texto de la descripción del proyecto\n",
        "st.write(\n",
        "    \"\"\"\n",
        "    Este dashboard muestra información sobre los empleados de una empresa.\n",
        "    Los datos se cargan desde un archivo CSV y se muestran en una tabla.\n",
        "    El usuario puede seleccionar el número de filas que desea cargar.\n",
        "    \"\"\"\n",
        ")\n",
        "show_original_data = st.sidebar.checkbox(\"Mostrar datos originales\")\n",
        "# Crear buscador de empleados por employee id\n",
        "employee_id = st.sidebar.text_input(\"Buscar empleado por ID\")\n",
        "\n",
        "\n",
        "# Filtrar datos por employee id\n",
        "if employee_id:\n",
        "   # Búsqueda parcial\n",
        "  data = data[data[\"Employee_ID\"].str.contains(employee_id, case=False, regex=False)]\n",
        "  if data.empty:\n",
        "    st.write(\"No se encontró ningún empleado con ese ID\")\n",
        "\n",
        "# Crear un control de selección para filtrar por nivel educativo\n",
        "education_level = st.sidebar.selectbox(\n",
        "    \"Filtrar por nivel educativo\",\n",
        "    options=data[\"Education_Level\"].unique()\n",
        ")\n",
        "# Filtrar los datos por el nivel educativo seleccionado\n",
        "if education_level:\n",
        "    data = data[data[\"Education_Level\"] == education_level]\n",
        "# Crear un control de selección para filtrar por ciudad\n",
        "city = st.sidebar.selectbox(\n",
        "    \"Filtrar por ciudad\",\n",
        "    options=data[\"Hometown\"].unique()\n",
        ")\n",
        "\n",
        "# Filtrar los datos por la ciudad seleccionada\n",
        "if city:\n",
        "    data = data[data[\"Hometown\"] == city]\n",
        "# Crear un control de selección para filtrar por unidad funcional\n",
        "unit = st.sidebar.selectbox(\n",
        "    \"Filtrar por unidad funcional\",\n",
        "    options=data[\"Unit\"].unique()\n",
        ")\n",
        "\n",
        "# Filtrar los datos por la unidad funcional seleccionada\n",
        "if unit:\n",
        "    data = data[data[\"Unit\"] == unit]\n",
        "# Mostrar el total de empleados que cumplen con los filtros aplicados\n",
        "st.write(\"Total de empleados:\", len(data))\n",
        "# Mostrar los datos filtrados\n",
        "st.dataframe(data)\n",
        "\n",
        "# Mostrar los datos originales si el checkbox está marcado\n",
        "if show_original_data:\n",
        "    st.subheader(\"Datos originales\")\n",
        "    st.dataframe(load_data())\n",
        "\n",
        "    # Crear un histograma de los empleados agrupados por edad\n",
        "st.subheader(\"Histograma de empleados por edad\")\n",
        "st.bar_chart(data[\"Age\"].value_counts())\n",
        "\n",
        "# Crear una gráfica de frecuencias para las unidades funcionales (Unit)\n",
        "st.subheader(\"Gráfica de frecuencias para las unidades funcionales\")\n",
        "st.bar_chart(data[\"Unit\"].value_counts())\n",
        "\n",
        "# Calculate the attrition rate for each city\n",
        "city_attrition_rate = (\n",
        "    data.groupby(\"Hometown\")\n",
        "    .agg(attrition_rate=(\"Attrition\", \"mean\"))\n",
        "    .reset_index()\n",
        "    .sort_values(by=\"attrition_rate\", ascending=False)\n",
        ")\n",
        "\n",
        "# Create a bar chart of the cities with the highest attrition rate\n",
        "st.subheader(\"Ciudades con mayor tasa de abandono\")\n",
        "fig = px.bar(city_attrition_rate.head(10), x=\"Hometown\", y=\"attrition_rate\",\n",
        "             title=\"Ciudades con mayor tasa de abandono\",\n",
        "             labels={\"Hometown\": \"Ciudad\", \"attrition_rate\": \"Tasa de abandono\"},\n",
        "             color_discrete_sequence=px.colors.qualitative.Pastel1)\n",
        "st.plotly_chart(fig)"
      ],
      "metadata": {
        "colab": {
          "base_uri": "https://localhost:8080/"
        },
        "id": "xh1FYo2kFffg",
        "outputId": "aa2219de-cbf8-43bd-9436-2aeff52ab4ca"
      },
      "execution_count": 62,
      "outputs": [
        {
          "output_type": "stream",
          "name": "stdout",
          "text": [
            "Overwriting app.py\n"
          ]
        }
      ]
    },
    {
      "cell_type": "code",
      "source": [
        "!streamlit run /content/app.py &>/content/streamlit.log &"
      ],
      "metadata": {
        "id": "TJ8dLESmcWzC"
      },
      "execution_count": 3,
      "outputs": []
    },
    {
      "cell_type": "code",
      "source": [
        "!curl -s http://localhost:4040/api/tunnels | python3 -c 'import sys, json; print(\"Execute the next cell and then go to the following URL: \" +json.load(sys.stdin)[\"tunnels\"][0][\"public_url\"])'"
      ],
      "metadata": {
        "colab": {
          "base_uri": "https://localhost:8080/"
        },
        "id": "EJ6Iu6bFcZna",
        "outputId": "9003ac15-1a06-4c66-9637-984144955bd6"
      },
      "execution_count": 4,
      "outputs": [
        {
          "output_type": "stream",
          "name": "stdout",
          "text": [
            "Execute the next cell and then go to the following URL: https://24ba-34-133-245-86.ngrok-free.app\n"
          ]
        }
      ]
    }
  ]
}