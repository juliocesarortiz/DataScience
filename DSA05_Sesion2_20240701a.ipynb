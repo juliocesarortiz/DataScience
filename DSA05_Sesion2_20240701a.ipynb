{
  "nbformat": 4,
  "nbformat_minor": 0,
  "metadata": {
    "colab": {
      "provenance": [],
      "include_colab_link": true
    },
    "kernelspec": {
      "name": "python3",
      "display_name": "Python 3"
    },
    "language_info": {
      "name": "python"
    }
  },
  "cells": [
    {
      "cell_type": "markdown",
      "metadata": {
        "id": "view-in-github",
        "colab_type": "text"
      },
      "source": [
        "<a href=\"https://colab.research.google.com/github/juliocesarortiz/DataScience/blob/main/DSA05_Sesion2_20240701a.ipynb\" target=\"_parent\"><img src=\"https://colab.research.google.com/assets/colab-badge.svg\" alt=\"Open In Colab\"/></a>"
      ]
    },
    {
      "cell_type": "code",
      "execution_count": 1,
      "metadata": {
        "colab": {
          "base_uri": "https://localhost:8080/"
        },
        "id": "WL1h3YZb7ujl",
        "outputId": "2b80239a-68d5-4fc1-f659-a08af1f761d4"
      },
      "outputs": [
        {
          "output_type": "stream",
          "name": "stdout",
          "text": [
            "\u001b[2K     \u001b[90m━━━━━━━━━━━━━━━━━━━━━━━━━━━━━━━━━━━━━━━━\u001b[0m \u001b[32m8.6/8.6 MB\u001b[0m \u001b[31m15.9 MB/s\u001b[0m eta \u001b[36m0:00:00\u001b[0m\n",
            "\u001b[2K     \u001b[90m━━━━━━━━━━━━━━━━━━━━━━━━━━━━━━━━━━━━━━━━\u001b[0m \u001b[32m207.3/207.3 kB\u001b[0m \u001b[31m11.3 MB/s\u001b[0m eta \u001b[36m0:00:00\u001b[0m\n",
            "\u001b[2K     \u001b[90m━━━━━━━━━━━━━━━━━━━━━━━━━━━━━━━━━━━━━━━━\u001b[0m \u001b[32m6.9/6.9 MB\u001b[0m \u001b[31m32.7 MB/s\u001b[0m eta \u001b[36m0:00:00\u001b[0m\n",
            "\u001b[2K     \u001b[90m━━━━━━━━━━━━━━━━━━━━━━━━━━━━━━━━━━━━━━━━\u001b[0m \u001b[32m83.0/83.0 kB\u001b[0m \u001b[31m3.0 MB/s\u001b[0m eta \u001b[36m0:00:00\u001b[0m\n",
            "\u001b[2K     \u001b[90m━━━━━━━━━━━━━━━━━━━━━━━━━━━━━━━━━━━━━━━━\u001b[0m \u001b[32m62.7/62.7 kB\u001b[0m \u001b[31m2.6 MB/s\u001b[0m eta \u001b[36m0:00:00\u001b[0m\n",
            "\u001b[?25h--2024-07-14 21:50:43--  https://bin.equinox.io/c/bNyj1mQVY4c/ngrok-v3-stable-linux-amd64.tgz\n",
            "Resolving bin.equinox.io (bin.equinox.io)... 54.237.133.81, 52.202.168.65, 18.205.222.128, ...\n",
            "Connecting to bin.equinox.io (bin.equinox.io)|54.237.133.81|:443... connected.\n",
            "HTTP request sent, awaiting response... 200 OK\n",
            "Length: 8967830 (8.6M) [application/octet-stream]\n",
            "Saving to: ‘ngrok-v3-stable-linux-amd64.tgz’\n",
            "\n",
            "ngrok-v3-stable-lin 100%[===================>]   8.55M  15.0MB/s    in 0.6s    \n",
            "\n",
            "2024-07-14 21:50:44 (15.0 MB/s) - ‘ngrok-v3-stable-linux-amd64.tgz’ saved [8967830/8967830]\n",
            "\n",
            "ngrok\n",
            "Authtoken saved to configuration file: /root/.config/ngrok/ngrok.yml\n"
          ]
        }
      ],
      "source": [
        "# instalar streamlit\n",
        "!pip install -q streamlit\n",
        "\n",
        "# bajar ngrok\n",
        "!wget https://bin.equinox.io/c/bNyj1mQVY4c/ngrok-v3-stable-linux-amd64.tgz\n",
        "!tar xvf ngrok-v3-stable-linux-amd64.tgz\n",
        "\n",
        "# guardar token\n",
        "!./ngrok config add-authtoken 2ifXcPO4BP27dcwEaBglNGu3ERM_61M9cZGAKtUGwqHoJfw8c\n",
        "\n",
        "# Levantar tunel\n",
        "!./ngrok http 8501 &>/content/ngrok.log &"
      ]
    },
    {
      "cell_type": "code",
      "source": [
        "%%writefile app.py\n",
        "\n",
        "\"\"\"\n",
        "Dashboard de peliculas\n",
        "\"\"\"\n",
        "\n",
        "import streamlit as st\n",
        "import pandas as pd\n",
        "\n",
        "# Modo ancho de página\n",
        "st.set_page_config(layout=\"wide\")\n",
        "\n",
        "# Cargar datos en caché\n",
        "@st.cache_data\n",
        "def load_data(rows=500):\n",
        "  \"\"\"\n",
        "  Función para cargar películas desde movies.csv\n",
        "  Carga 500 registros por omisión\n",
        "  \"\"\"\n",
        "  data = pd.read_csv(\"/content/movies.csv\", encoding=\"latin1\",nrows=rows)\n",
        "  return data\n",
        "\n",
        "# filtros\n",
        "number_movies = st.sidebar.number_input(\"# Movies\",min_value=1,value=5000)\n",
        "\n",
        "# cargar 5000 películas\n",
        "movies = load_data(number_movies)\n",
        "\n",
        "title = st.sidebar.text_input(\"Title\")\n",
        "director_list = st.sidebar.multiselect(\"Director\",sorted(movies.director.unique()))\n",
        "\n",
        "# Aplicar filtros\n",
        "if title:\n",
        "  movies = movies[movies['name'].str.contains(title,case=False)]\n",
        "\n",
        "if director_list:\n",
        "  movies = movies[movies['director'].isin(director_list)]\n",
        "\n",
        "# Desplegar dataframe\n",
        "st.dataframe(movies, hide_index=True)\n",
        "\n"
      ],
      "metadata": {
        "colab": {
          "base_uri": "https://localhost:8080/"
        },
        "id": "dV73l_oaFUjH",
        "outputId": "7d6b625e-d0d1-40d3-d8fc-3ad013dc1702"
      },
      "execution_count": null,
      "outputs": [
        {
          "output_type": "stream",
          "name": "stdout",
          "text": [
            "Overwriting app.py\n"
          ]
        }
      ]
    },
    {
      "cell_type": "code",
      "source": [
        "!streamlit run /content/app.py &>/content/streamlit.log &"
      ],
      "metadata": {
        "id": "62czi1aDGbHW"
      },
      "execution_count": null,
      "outputs": []
    },
    {
      "cell_type": "code",
      "source": [
        "!curl -s http://localhost:4040/api/tunnels | python3 -c 'import sys, json; print(\"Execute the next cell and then go to the following URL: \" +json.load(sys.stdin)[\"tunnels\"][0][\"public_url\"])'"
      ],
      "metadata": {
        "colab": {
          "base_uri": "https://localhost:8080/"
        },
        "id": "bWECnWdwGtmu",
        "outputId": "09abfba3-3353-4605-c66c-1acd47113189"
      },
      "execution_count": null,
      "outputs": [
        {
          "output_type": "stream",
          "name": "stdout",
          "text": [
            "Execute the next cell and then go to the following URL: https://bc46-34-80-71-173.ngrok-free.app\n"
          ]
        }
      ]
    }
  ]
}