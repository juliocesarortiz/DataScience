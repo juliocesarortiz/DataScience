{
  "nbformat": 4,
  "nbformat_minor": 0,
  "metadata": {
    "colab": {
      "provenance": [],
      "include_colab_link": true
    },
    "kernelspec": {
      "display_name": "Python 3",
      "name": "python3"
    }
  },
  "cells": [
    {
      "cell_type": "markdown",
      "metadata": {
        "id": "view-in-github",
        "colab_type": "text"
      },
      "source": [
        "<a href=\"https://colab.research.google.com/github/juliocesarortiz/DataScience/blob/main/Colab_DSA02_06_01_Act%C3%ADvate_Operaciones_importantes_con_NumPy.ipynb\" target=\"_parent\"><img src=\"https://colab.research.google.com/assets/colab-badge.svg\" alt=\"Open In Colab\"/></a>"
      ]
    },
    {
      "cell_type": "markdown",
      "metadata": {
        "id": "DbRuTI6bwITg"
      },
      "source": []
    },
    {
      "cell_type": "markdown",
      "metadata": {
        "id": "OJIeIgmnNdT4"
      },
      "source": [
        "# **Módulo 2. Plataformas de Aplicación sobre Python**\n",
        "---\n"
      ]
    },
    {
      "cell_type": "code",
      "metadata": {
        "id": "eOVDmi-44VMK"
      },
      "source": [
        "import numpy as np"
      ],
      "execution_count": null,
      "outputs": []
    },
    {
      "cell_type": "markdown",
      "metadata": {
        "id": "eTDMusf9ToGm"
      },
      "source": [
        "**TEMA 1. Operaciones importantes con NumPy**"
      ]
    },
    {
      "cell_type": "markdown",
      "metadata": {
        "id": "IBf0CcJQutDV"
      },
      "source": [
        "Se tiene un sistema de dos ecuaciones con dos incógnitas x1 y x2. Se desea encontrar los valores de dichas incógnitas para que satisfagan las ecuaciones que se muestran a continuación:"
      ]
    },
    {
      "cell_type": "markdown",
      "metadata": {
        "id": "j2XVnD8_uvHA"
      },
      "source": [
        "![image.png](data:image/png;base64,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)"
      ]
    },
    {
      "cell_type": "markdown",
      "metadata": {
        "id": "v-X6W_ApuzqL"
      },
      "source": [
        "Donde A, B, C, D, E, F son datos que el usuario debe introducir y a partir de ellos se debe resolver el sistema de ecuaciones."
      ]
    },
    {
      "cell_type": "markdown",
      "metadata": {
        "id": "oBo6e6zqNwVj"
      },
      "source": [
        "1. Pida los valores de A, B, C, D, E y F\n",
        "\n",
        "\n",
        "\n",
        "\n",
        "\n"
      ]
    },
    {
      "cell_type": "code",
      "metadata": {
        "id": "cfX971JOOJKo"
      },
      "source": [],
      "execution_count": null,
      "outputs": []
    },
    {
      "cell_type": "markdown",
      "metadata": {
        "id": "QVGfP8okOJpD"
      },
      "source": [
        "2. Crea la matriz A de la forma ![image.png](data:image/png;base64,iVBORw0KGgoAAAANSUhEUgAAADcAAAAhCAYAAAB9VDPAAAAFA0lEQVRYCe1Yayiebxh/GbZWDh+YFRISI0aWQzk0c47GSPHFtpRE1kRbSgg57IvEB1toFB+kSOLDLKVRc8wpp0VOUcthk9Nwrd/d/3l6D/fz8sx//d/+uertve/r8Hvu636u676u+1HQf0i1tbWUmJhIw8PDf2UVir+CqiOgN87pyIuQvYybN4ct+/jxI3fn9vf3ydHRkRoaGrhyOcyfP39SZGQkeXp6Unh4OPn7+7MDZ35+nsF0dXXR9+/frwx56Zs7PDykpKQkSk9P54Lm5OSQgYEBlZaWcuVymVlZWfTo0SNmdnJyQnFxcRQQEMDmnz9/JldXV5qYmLgS7KXOZWZmUkpKChdsYWGB3NzcKCYmhnJzc7k6cpkhISGEZwqEzQsODham9OnTJ7K2tqYfP36IPKmBVufGxsbI2NiYtre3ufbR0dGEUElOTqbU1FSujhzm+fk5mZiYUHNzM11cXFBfXx+ZmZlRe3u7Ckx8fDxlZ2er8HgTrc6FhYURdo5Hvb29hF0GpaWlUUJCAk9NFm9qaooUCgU9fvyYbG1t2bitrU0DY3JykgwNDWl1dVVDpsyQdG53d5fl0tevX5X12fjXr1/04MED5lxGRgYLzSdPnmjoyWW8f/+eLCwsRDNsrI2NDXuLIvOfgYuLC6HD0UaSzrW2trKQPDs707Cvqqpih8zKygrh9/r1a/Ly8tLQk8t4+fIly1/Brrq6mu7cuUPHx8cCS/zHARcRESHOeQNJ5168eMGOY3Wjzc1NMjU1penpaVFUUFBAVlZW4vxPBygpJSUlzHxnZ4cePnxIT58+5cK1tLTQ7du36fT0lCsHU9I55BNySZlQ01CDkBdwCIS4t7OzY7ympiZldVnjmpoahoHTNzQ0lBDmr169IpQiHg0ODjL9jY0NnpjxFMgfHrm7u9Pbt295Ip3gzc3NMefGx8cl16PAUc6j+/fvU2VlJU+kEzyUJ0QQTm0pUtTX13NlqC84OHSV9vb2mHOdnZ2SS1R8+PCBK0RyFxYWcmW6wFxeXmbOIfekSFFXV8eVoWlFn6erNDo6ypxbWlqSXKICtYRHz549Y7WMJ9MFHnINOYebhBQpUM94VFFRQfb29jwRFRcXsxoUFBREvr6+rGQsLi5ydeUyBWyUgqioKAoMDGTPmpmZUYEqKioidCnaSLLOzc7Osp1ZX1/XsB8YGGAydCfo89DI4nTd2trS0JXLELC/ffvGTHFwoFgfHR2pQMH5N2/eqPDUJ5LOQdHBwYEaGxvVbQh5CmcEEjYCveF1CdjK/SXwvnz5ogKLULx79y5hI7SRVufQNeByiKuIMiGUY2NjlVlkaWlJeXl5Krw/mQAbVylced69e8euP+o4ZWVl5O3tzW2olXW1OoemGe0WmmhlcnZ2pvLycpEFPSMjI5I6nETFKwyA7eTkxC6o+vr6NDQ0pGKFFvDevXs0MjKiwudNtDoHA4DgbiWEBhpaPT096u/vF/GEPOFdj0SlKwwEbNy2QbhO4VODQAhHHDBCXyvwpf4vdQ6GSG400giVnp4eunXrFh0cHIiYuHogTK5LwMbbUv6E0N3dLcLm5+dzw1RUUBtcyTllG+SVh4cHY2FX8XnB3Nyc/o1SAGzcCgTq6OggHx8fYSr7X5ZzOPYR7zjN/Pz8WB18/vw5ra2tyX6wuoEyNuobPgohj69zM5HlnPqCdH1+45yuvyGp9f2v39xvMPNW84BpVdsAAAAASUVORK5CYII=)"
      ]
    },
    {
      "cell_type": "code",
      "metadata": {
        "id": "ePaYVcQYOXD8"
      },
      "source": [],
      "execution_count": null,
      "outputs": []
    },
    {
      "cell_type": "markdown",
      "metadata": {
        "id": "Tn25sbLOOXr-"
      },
      "source": [
        "3. Crea la matriz B de la forma ![image.png](data:image/png;base64,iVBORw0KGgoAAAANSUhEUgAAAB0AAAAgCAYAAADud3N8AAAFBElEQVRIDeWWTUhXWxTFr1oEgRCBkBRCYkkGIYggJKSJiuhEnOgoR6GYg0ADCStsEE0ioQhUFAc6E1FQB4ER2gdCpYmCCUUqZaSmZfndfvw2b12u8eYN3h/Of5+999prr3PuvefewP7CL/gLPe1/2HRvb89+//5tu7u7trOz43O2nji/jo4Ot2CI/fz5065fv24FBQWWnJxsWVlZNjk5af39/ba0tOQ8FMBHjeqIBRCooZIkmNN8fX3dKioqrLq6OsT9+PHDcnJyrLy83DY2Nmx+ft7i4uJsYWHBhoeH7ezZs/bmzRsXGf1T4/CaKhC1FNTU1NilS5fClZNvbGy0I0eO2Ldv35wT0aOjoz4n//jxYztx4oStra15HavlR45foCbRLRXo1atXFh8fb58/fw6L2NaEhARramoKt047hdWvrKzMrl696rtDXBj6eVOAUqFC/Pz8fKurq9tXMDQ0ZEEQ2Lt378J4tF6Cx8fH7eDBgzY3N+fc8Gn49kpJVM3KyoodOHDAxsbGXLxy9+/ft0OHDvkqJRBLs6hPg7S0NHvw4EG4IGL8/EaSOinB7+7u9q3d2trat6Jbt25ZSkpKqJqa2dnZ0HfWf+/6qqoqKywsDEWrjzclKqVSU1lZ6Y9DNM785cuXvgPcJKysp6fHMjIyfC4scXgQzq5sb2+7r3zADaSmAPFJ5uXl2eXLlz3HXxRXW1tr586ds5KSEjt+/LjfVNRSB04cz5498+v/8ePHcOvBBKgQSNcEAkivXbvmYPLEyIuYOp5XfK1MCoWbnp72pq9fvw5rwQR9fX1OKGKJOHbsmN29ezdsorwszRiIoUZ1URGfPn3ypgMDA44lR33Q2toabom2CAIe/nv37nmOOGA1Yg5GJFqpfPKMr1+/etPe3l73wTGClpaWkExqSZw6dcpu3rwZbp0aYsn/KQKfuBpjP3z44E05rchpBI8ePTIeCxWJ8Pz583blypUwJ0HRpqqhnrgw2nKecQ6SmZkZ5wfHCJqbm31CM4okoLS01A90YiJUTpYcQ0KFU3xwcNCbckYjUCPgMIdE5CK8c+eOnTx50gnJEZcwtp27Ozc314qKivy1hr+4uBhyUXPjxg07c+ZMuBjVB6hTUynEn5iYcJXv37+3zc3N8FrxKnv69Gm4bWDfvn1riYmJjsHXihHF2c0K4aYWGwCCVBYAcwC8nNva2txXHvvw4UN/0yhG/cjIiNcotry8bIcPH7YnT554IzAM+L0pwD8HirjeHNq8zvCF4ZIUFxe7z2PV1dXlZMqDvX37tmVmZnqj6KLAhE1J/Pr1y9UKxImTnp5unZ2d3oDVk0tNTfXrfeHCBYuNjfUXuHKQfvnyxXfi+fPnLpgYQsQfaKIiWVZHgxcvXlhSUpJfR3K80GNiYoz3KhhulO/fv7tY8mxrdna2fz/RjJg44WO+rylqCEqIQFNTU3bx4kX/XuLY5HsIchGKnLqGhgZrb2/3nISD41tLfN4UMAASAmKJE1Oeovr6ejt9+rTjhBWOPDFGVLyaKhaIlIAKiOFzTbECc8LwfXT06FHfbnAM1ak5ltpoXDli3pRrIiBgCSHOXDF8ikT4XzXkECkO1UocfgCJyKMN+DKQUvKAo00VkwjwYGSZy4dXcfDB6upqmCShASlzrAYkwhNjDgZSfFnlwDPHKgc+IMiBDIEAUctXoRSDiTaFQEKIw0OtxAqrnPx/AIgOIwfBRwN/AAAAAElFTkSuQmCC)"
      ]
    },
    {
      "cell_type": "code",
      "metadata": {
        "id": "PCWLAKByOlor"
      },
      "source": [],
      "execution_count": null,
      "outputs": []
    },
    {
      "cell_type": "markdown",
      "metadata": {
        "id": "yLkOJPoOOmPj"
      },
      "source": [
        "4. Calcula la matriz inversa de A"
      ]
    },
    {
      "cell_type": "code",
      "metadata": {
        "id": "vtIoiwqAOzq6"
      },
      "source": [],
      "execution_count": null,
      "outputs": []
    },
    {
      "cell_type": "markdown",
      "metadata": {
        "id": "soDqL-esO0FV"
      },
      "source": [
        "5. Multiplique la inversa de A por B"
      ]
    },
    {
      "cell_type": "code",
      "metadata": {
        "id": "lTP9fKRGPBB5"
      },
      "source": [],
      "execution_count": null,
      "outputs": []
    },
    {
      "cell_type": "markdown",
      "metadata": {
        "id": "oOUHTxORvh7t"
      },
      "source": [
        "5. Analice los resultados\n",
        "\n"
      ]
    }
  ]
}