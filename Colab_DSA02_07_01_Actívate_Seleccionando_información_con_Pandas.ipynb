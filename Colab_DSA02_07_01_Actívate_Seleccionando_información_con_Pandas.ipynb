{
  "nbformat": 4,
  "nbformat_minor": 0,
  "metadata": {
    "colab": {
      "provenance": [],
      "include_colab_link": true
    },
    "kernelspec": {
      "display_name": "Python 3",
      "name": "python3"
    }
  },
  "cells": [
    {
      "cell_type": "markdown",
      "metadata": {
        "id": "view-in-github",
        "colab_type": "text"
      },
      "source": [
        "<a href=\"https://colab.research.google.com/github/juliocesarortiz/DataScience/blob/main/Colab_DSA02_07_01_Act%C3%ADvate_Seleccionando_informaci%C3%B3n_con_Pandas.ipynb\" target=\"_parent\"><img src=\"https://colab.research.google.com/assets/colab-badge.svg\" alt=\"Open In Colab\"/></a>"
      ]
    },
    {
      "cell_type": "markdown",
      "metadata": {
        "id": "OJIeIgmnNdT4"
      },
      "source": [
        "# **Módulo 2. Plataformas de Aplicación sobre Python**\n",
        "---\n"
      ]
    },
    {
      "cell_type": "code",
      "metadata": {
        "id": "eOVDmi-44VMK"
      },
      "source": [
        "import pandas as pd\n"
      ],
      "execution_count": null,
      "outputs": []
    },
    {
      "cell_type": "code",
      "metadata": {
        "id": "nIqJkujvwOGJ"
      },
      "source": [
        "from google.colab import drive\n",
        "drive.mount('/content/drive')"
      ],
      "execution_count": null,
      "outputs": []
    },
    {
      "cell_type": "markdown",
      "metadata": {
        "id": "U5dNPgKAPId4"
      },
      "source": [
        "**TEMA 2. Seleccionando información con Pandas**"
      ]
    },
    {
      "cell_type": "markdown",
      "metadata": {
        "id": "jifnQYHOwh95"
      },
      "source": [
        "Cree un script en Python que utilice el archivo starships.cvs para realizar las siguientes actividades:"
      ]
    },
    {
      "cell_type": "markdown",
      "metadata": {
        "id": "zpk7wu_CPVsP"
      },
      "source": [
        "1. Un dataframe que contenga solamente tenga los primeros 10 registros"
      ]
    },
    {
      "cell_type": "code",
      "metadata": {
        "id": "CNdLnXbx4j6q"
      },
      "source": [],
      "execution_count": null,
      "outputs": []
    },
    {
      "cell_type": "markdown",
      "metadata": {
        "id": "0tsZJcMu4kdn"
      },
      "source": [
        "2. Un dataframe que contenga todos los registros pero sólo las columnas name, model, cost_in_credits y passengers"
      ]
    },
    {
      "cell_type": "code",
      "metadata": {
        "id": "Yoz7_Xb1Pwb-"
      },
      "source": [],
      "execution_count": null,
      "outputs": []
    },
    {
      "cell_type": "markdown",
      "metadata": {
        "id": "LszYD0MB4wTr"
      },
      "source": [
        "3. Un dataframe que contenga las naves cuya tripulación (crew) es mayor a 100 y que tenga las columnas name, cost_in_credits y passengers"
      ]
    },
    {
      "cell_type": "code",
      "metadata": {
        "id": "jWogzf-s4wrD"
      },
      "source": [],
      "execution_count": null,
      "outputs": []
    },
    {
      "cell_type": "markdown",
      "metadata": {
        "id": "F_qW0B0ZPvZF"
      },
      "source": [
        "4. Agregar una nueva columna (relation) que contenga la relación entre pasajeros y tripulación (passengers / crew)"
      ]
    },
    {
      "cell_type": "code",
      "metadata": {
        "id": "_v_PPJNvP6OV"
      },
      "source": [],
      "execution_count": null,
      "outputs": []
    },
    {
      "cell_type": "markdown",
      "metadata": {
        "id": "AZS4UGRLP6-t"
      },
      "source": [
        "5. Agregar una nueva columna (size) con el valor LARGE cuando la longitud (length) sea mayor a 2000 y el valor SMALL en caso contrario. Además de la nueva columna solamente debe contener las columnas name, passengers, cargo_capacity y starship_class."
      ]
    },
    {
      "cell_type": "code",
      "metadata": {
        "id": "TBGm5DhtQA9M"
      },
      "source": [],
      "execution_count": null,
      "outputs": []
    }
  ]
}